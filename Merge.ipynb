{
 "cells": [
  {
   "cell_type": "code",
   "execution_count": 4,
   "id": "9ca1e1ad-6cf7-4000-8bd8-a10956a493a9",
   "metadata": {},
   "outputs": [
    {
     "name": "stdout",
     "output_type": "stream",
     "text": [
      "Requirement already satisfied: nbmerge in /Users/ravisangwan/Desktop/Qiskit/anaconda3/lib/python3.12/site-packages (0.0.4)\n",
      "Note: you may need to restart the kernel to use updated packages.\n"
     ]
    }
   ],
   "source": [
    "pip install nbmerge"
   ]
  },
  {
   "cell_type": "code",
   "execution_count": 8,
   "id": "5ba07920-40b8-4792-8fde-4a13626781cf",
   "metadata": {},
   "outputs": [],
   "source": [
    "!nbmerge Quantum_Teleportation.ipynb Bernstein-Vazirani_Algorithm.ipynb Deutsch_Jozsa_Algorithm.ipynb QFT_IQFT.ipynb Grover_Search_Algorithm.ipynb Simon_Algorithm.ipynb Quantum_Phase_Estimation_Algorithm.ipynb   > Quantum_Simulation_Lab.ipynb"
   ]
  }
 ],
 "metadata": {
  "kernelspec": {
   "display_name": "Python 3 (ipykernel)",
   "language": "python",
   "name": "python3"
  },
  "language_info": {
   "codemirror_mode": {
    "name": "ipython",
    "version": 3
   },
   "file_extension": ".py",
   "mimetype": "text/x-python",
   "name": "python",
   "nbconvert_exporter": "python",
   "pygments_lexer": "ipython3",
   "version": "3.12.4"
  }
 },
 "nbformat": 4,
 "nbformat_minor": 5
}
